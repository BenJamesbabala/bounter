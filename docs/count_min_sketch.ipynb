{
 "cells": [
  {
   "cell_type": "markdown",
   "metadata": {},
   "source": [
    "This file contains scripts for CountMinSketch implementation testing\n",
    "\n",
    "It uses prefix of a preprocessed wiki corpus (title_tokens) as a source, processing at most fixed amount of text. It counts the frequency of words using the python Counter (dictionary) for exact counts and then repeats the counting using Count-min sketch implementation.\n",
    "Basic statistics such as standard deviation are available"
   ]
  },
  {
   "cell_type": "code",
   "execution_count": 17,
   "metadata": {},
   "outputs": [],
   "source": [
    "import bounter\n",
    "import math\n",
    "import smart_open\n",
    "import numpy \n",
    "\n",
    "# some basic declarations about input\n",
    "\n",
    "# process at most this number of articles \n",
    "max_articles = 100 \n",
    "# process at most this number of total words\n",
    "max_words = 150000000\n",
    "#absolute path to corpus\n",
    "wiki_file = 'C:/rare/corpus/wiki/title_tokens.txt.gz'"
   ]
  },
  {
   "cell_type": "code",
   "execution_count": 18,
   "metadata": {},
   "outputs": [],
   "source": [
    "# loads the counter from wiki file\n",
    "# cnt (python counter) or cms (count-min sketch) can be None, it only loads into a non-empty counter\n",
    "# returns total number of loaded words\n",
    "def load(cnt, cms):\n",
    "    wiki_input = smart_open.smart_open(wiki_file)\n",
    "    wiki_input.seek(0)\n",
    "\n",
    "    length = 0\n",
    "    words = 0\n",
    "    for lineno, line in enumerate(wiki_input):            \n",
    "        length += 1                \n",
    "        for word in line.decode().split('\\t')[1].split():\n",
    "            if cnt is not None:\n",
    "                cnt[word] += 1\n",
    "            if cms is not None:\n",
    "                cms.increment(word)\n",
    "            words += 1\n",
    "        if (length >= max_articles or words >= max_words):\n",
    "            break\n",
    "    return words"
   ]
  },
  {
   "cell_type": "code",
   "execution_count": 19,
   "metadata": {},
   "outputs": [],
   "source": [
    "# using cnt as counter with exact frequencies and cms as count-min sketch estimations,\n",
    "# provides basic statistics about the accuracy of the estimations\n",
    "# deviation: standard deviation of the estimations\n",
    "# log_deviation: standard deviation using the logcounter value instead of the derived value\n",
    "\n",
    "mks1024 = bounter.CountMinSketch(width=1, depth=1, algorithm='logcounter1024')\n",
    "\n",
    "def stats(cnt, cms):\n",
    "    variance = 0\n",
    "    logvariance = 0\n",
    "    total_estimated_freq = 0\n",
    "    total_real_freq = 0\n",
    "    total_keys = 0\n",
    "    mds = 0\n",
    "    md = 0\n",
    "    mdw = ''\n",
    "    mdc = 0\n",
    "    \n",
    "    for word, real_count in cnt.items():\n",
    "        total_keys += 1\n",
    "        estimated_count = cms[word]\n",
    "        d = estimated_count - real_count\n",
    "        logd = mks1024.log_encode(estimated_count) - mks1024.log_encode(real_count) \n",
    "        total_estimated_freq += estimated_count\n",
    "        total_real_freq += real_count\n",
    "        ds = d*d\n",
    "        logds = logd * logd\n",
    "        if ds > mds:\n",
    "            md = d\n",
    "            mds = ds\n",
    "            mdw = word\n",
    "            mdc = estimated_count\n",
    "        variance += ds\n",
    "        logvariance += logds\n",
    "        \n",
    "    deviation = math.sqrt(variance / total_keys)\n",
    "    log_deviation = math.sqrt(logvariance / total_keys)\n",
    "    \n",
    "    ## Uncomment following lines for more detailed stats    \n",
    "    #print(\"Total keys: %d\" % total_keys)\n",
    "    #print(\"Total frequency reported %d (~ %f), expected %d (~ %f)\" \n",
    "    #      % (total_estimated_freq, total_estimated_freq / total_keys, total_real_freq, total_real_freq / total_keys))\n",
    "    #print(\"Deviation: %f\"% deviation)\n",
    "    #print(\"Max error: %d on key %s (expected %d, got %d)\"% (md, mdw, cnt[mdw], mdc))\n",
    "    return total_keys, deviation, log_deviation"
   ]
  },
  {
   "cell_type": "code",
   "execution_count": 20,
   "metadata": {
    "collapsed": true
   },
   "outputs": [],
   "source": [
    "# From https://stackoverflow.com/a/38515297\n",
    "import sys\n",
    "\n",
    "def get_size(obj, seen=None):\n",
    "    \"\"\"Recursively finds size of objects\"\"\"\n",
    "    size = sys.getsizeof(obj)\n",
    "    if seen is None:\n",
    "        seen = set()\n",
    "    obj_id = id(obj)\n",
    "    if obj_id in seen:\n",
    "        return 0\n",
    "    # Important mark as seen *before* entering recursion to gracefully handle\n",
    "    # self-referential objects\n",
    "    seen.add(obj_id)\n",
    "    if isinstance(obj, dict):\n",
    "        size += sum([get_size(v, seen) for v in obj.values()])\n",
    "        size += sum([get_size(k, seen) for k in obj.keys()])\n",
    "    elif hasattr(obj, '__dict__'):\n",
    "        size += get_size(obj.__dict__, seen)\n",
    "    elif hasattr(obj, '__iter__') and not isinstance(obj, (str, bytes, bytearray)):\n",
    "        size += sum([get_size(i, seen) for i in obj])\n",
    "    return size"
   ]
  },
  {
   "cell_type": "code",
   "execution_count": 21,
   "metadata": {
    "collapsed": false
   },
   "outputs": [],
   "source": [
    "from collections import Counter\n",
    "\n",
    "# tests a single run with Counter already loaded\n",
    "def test(cnt, width, depth, algorithm = 'conservative'):\n",
    "    cms = bounded_counter.CountMinSketch(width=width, depth=depth, algorithm=algorithm)\n",
    "\n",
    "    load(None, cms)\n",
    "    (total_keys, deviation, log_deviation) = stats(cnt, cms)\n",
    "\n",
    "    cms_size = 8*width*depth\n",
    "    cnt_size = get_size(cnt)\n",
    "    result = (width, depth, algorithm, deviation, log_deviation, cms.cardinality(), cms.sum)\n",
    "    ## Uncomment for more test statistics\n",
    "    #print(\"%d\\t%d\\t%s\\t%f\\t%f\\t%d\\t%d\" % result)\n",
    "    #print(\"Tested CMS with width %d (%f of words) and depth %d\" % (width, width / total_keys, depth))\n",
    "    #print(\"Deviation: %f\" % deviation)\n",
    "    #print(\"CMS size: %d bytes, compared to %d Counter size (%f)\" % (cms_size, cnt_size, cms_size / cnt_size))\n",
    "    return result"
   ]
  },
  {
   "cell_type": "markdown",
   "metadata": {},
   "source": [
    "The following section can be used to ad-hoc test count-min sketch implementation using values"
   ]
  },
  {
   "cell_type": "code",
   "execution_count": 22,
   "metadata": {
    "collapsed": false
   },
   "outputs": [
    {
     "name": "stdout",
     "output_type": "stream",
     "text": [
      "Size of orig: 10700 entries in 905672 bytes from 64685 total words\n"
     ]
    },
    {
     "name": "stdout",
     "output_type": "stream",
     "text": [
      "width: 256\ndepth: 5\nalgorithm: basic\ndeviation: 114.118185\nLog deviation: 114.105841\nCardinality: 10654\nTotal: 64685\nWall time: 5.09 s\n"
     ]
    }
   ],
   "source": [
    "%%time\n",
    "max_articles = 10\n",
    "max_words = 150000000\n",
    "cnt = Counter()\n",
    "words = load(cnt, None)\n",
    "print(\"Size of orig: %d entries in %d bytes from %d total words\" % (len(cnt), get_size(cnt), words))\n",
    "# modify parameters as you wish\n",
    "result = test(cnt, 256, 5, 'basic')\n",
    "\n",
    "print(\"width: %d\\ndepth: %d\\nalgorithm: %s\\ndeviation: %f\\nLog deviation: %f\\nCardinality: %d\\nTotal: %d\" % result)"
   ]
  },
  {
   "cell_type": "code",
   "execution_count": 7,
   "metadata": {
    "collapsed": false
   },
   "outputs": [
    {
     "name": "stdout",
     "output_type": "stream",
     "text": [
      "Size of orig: 5782 entries in 625454 bytes from 30451 total words\n"
     ]
    },
    {
     "name": "stdout",
     "output_type": "stream",
     "text": [
      "Wall time: 59.2 s\n"
     ]
    }
   ],
   "source": [
    "%%time\n",
    "max_articles = 5\n",
    "max_words = 150000000\n",
    "\n",
    "cnt = Counter()\n",
    "words = load(cnt, None)\n",
    "results = []\n",
    "print(\"Size of orig: %d entries in %d bytes from %d total words\" % (len(cnt), get_size(cnt), words))\n",
    "for algorithm in ['basic', 'conservative', 'logcounter8', 'logcounter1024', 'logcons1024']:\n",
    "    for width in [1 << 13, 1 << 14, 1 << 15]: # all different lengths, add more. Should be power of 2\n",
    "        for depth in [4, 8]: # all different depths\n",
    "            result = test(cnt, width, depth, algorithm)\n",
    "            results.append(result)"
   ]
  },
  {
   "cell_type": "code",
   "execution_count": 9,
   "metadata": {},
   "outputs": [
    {
     "name": "stdout",
     "output_type": "stream",
     "text": [
      "8192\t4\tbasic\t0.346700\t0.346700\t5766\t30451\n8192\t8\tbasic\t0.072031\t0.072031\t5766\t30451\n16384\t4\tbasic\t0.101868\t0.101868\t5766\t30451\n16384\t8\tbasic\t0.000000\t0.000000\t5766\t30451\n32768\t4\tbasic\t0.034794\t0.034794\t5766\t30451\n32768\t8\tbasic\t0.000000\t0.000000\t5766\t30451\n8192\t4\tconservative\t0.153929\t0.153929\t5766\t30451\n8192\t8\tconservative\t0.032213\t0.032213\t5766\t30451\n16384\t4\tconservative\t0.049207\t0.049207\t5766\t30451\n16384\t8\tconservative\t0.000000\t0.000000\t5766\t30451\n32768\t4\tconservative\t0.013151\t0.013151\t5766\t30451\n32768\t8\tconservative\t0.000000\t0.000000\t5766\t30451\n8192\t4\tlogcounter8\t8.254733\t7.976271\t5766\t30451\n8192\t8\tlogcounter8\t10.907547\t10.590210\t5766\t30451\n16384\t4\tlogcounter8\t9.455251\t9.339627\t5766\t30451\n16384\t8\tlogcounter8\t8.952090\t8.652602\t5766\t30451\n32768\t4\tlogcounter8\t8.469021\t8.246306\t5766\t30451\n32768\t8\tlogcounter8\t10.738496\t10.416010\t5766\t30451\n8192\t4\tlogcounter1024\t0.346949\t0.346700\t5766\t30451\n8192\t8\tlogcounter1024\t0.260045\t0.138555\t5766\t30451\n16384\t4\tlogcounter1024\t0.222016\t0.137301\t5766\t30451\n16384\t8\tlogcounter1024\t0.092057\t0.039453\t5766\t30451\n32768\t4\tlogcounter1024\t0.278356\t0.136036\t5766\t30451\n32768\t8\tlogcounter1024\t0.065755\t0.026302\t5766\t30451\n8192\t4\tlogcons1024\t0.194173\t0.162670\t5766\t30451\n8192\t8\tlogcons1024\t0.278045\t0.148205\t5766\t30451\n16384\t4\tlogcons1024\t0.082128\t0.055795\t5766\t30451\n16384\t8\tlogcons1024\t0.144662\t0.078906\t5766\t30451\n32768\t4\tlogcons1024\t0.041587\t0.029407\t5766\t30451\n32768\t8\tlogcons1024\t0.170964\t0.092057\t5766\t30451\n"
     ]
    }
   ],
   "source": [
    "for result in results:\n",
    "    print(\"%d\\t%d\\t%s\\t%f\\t%f\\t%d\\t%d\" % result)"
   ]
  },
  {
   "cell_type": "markdown",
   "metadata": {},
   "source": [
    "This can be used to manually sanity-test a logcounter implementation.\n",
    "The result should be in the same order of magnitude."
   ]
  },
  {
   "cell_type": "code",
   "execution_count": 15,
   "metadata": {
    "collapsed": false
   },
   "outputs": [
    {
     "name": "stdout",
     "output_type": "stream",
     "text": [
      "Got 997376 (0.997376 of original 1000000)\nCounter difference: -5 (expected 11169, actual 11164)\n"
     ]
    }
   ],
   "source": [
    "expected = 1000000\n",
    "mks = bounded_counter.CountMinSketch(width=1, depth=1, algorithm='logcons1024')\n",
    "for i in range(expected):\n",
    "    mks.increment(1)\n",
    "actual = mks[1]\n",
    "print(\"Got %d (%f of original %d)\" % (actual, actual / expected, expected))\n",
    "log_actual = mks.log_encode(actual)\n",
    "log_expected = mks.log_encode(expected)\n",
    "print(\"Counter difference: %d (expected %d, actual %d)\" % (log_actual - log_expected, log_expected, log_actual))"
   ]
  },
  {
   "cell_type": "code",
   "execution_count": null,
   "metadata": {},
   "outputs": [],
   "source": [
    ""
   ]
  }
 ],
 "metadata": {
  "kernelspec": {
   "display_name": "Python 3",
   "language": "python",
   "name": "python3"
  },
  "language_info": {
   "codemirror_mode": {
    "name": "ipython",
    "version": 3.0
   },
   "file_extension": ".py",
   "mimetype": "text/x-python",
   "name": "python",
   "nbconvert_exporter": "python",
   "pygments_lexer": "ipython3",
   "version": "3.6.1"
  }
 },
 "nbformat": 4,
 "nbformat_minor": 0
}